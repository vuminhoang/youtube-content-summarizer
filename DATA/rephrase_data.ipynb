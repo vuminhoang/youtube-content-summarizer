{
  "nbformat": 4,
  "nbformat_minor": 0,
  "metadata": {
    "colab": {
      "provenance": []
    },
    "kernelspec": {
      "name": "python3",
      "display_name": "Python 3"
    },
    "language_info": {
      "name": "python"
    }
  },
  "cells": [
    {
      "cell_type": "code",
      "execution_count": null,
      "metadata": {
        "id": "HnTUNJqIBigC"
      },
      "outputs": [],
      "source": [
        "import google.generativeai as genai\n",
        "from google.colab import userdata\n",
        "\n",
        "gemini_api_secret_name = 'gemini-pro'  # @param {type: \"string\"}\n",
        "\n",
        "try:\n",
        "  GOOGLE_API_KEY=userdata.get(gemini_api_secret_name)\n",
        "  genai.configure(api_key=GOOGLE_API_KEY)\n",
        "except userdata.SecretNotFoundError as e:\n",
        "   print(f'Secret not found\\n\\nThis expects you to create a secret named {gemini_api_secret_name} in Colab\\n\\nVisit https://makersuite.google.com/app/apikey to create an API key\\n\\nStore that in the secrets section on the left side of the notebook (key icon)\\n\\nName the secret {gemini_api_secret_name}')\n",
        "   raise e\n",
        "except userdata.NotebookAccessError as e:\n",
        "  print(f'You need to grant this notebook access to the {gemini_api_secret_name} secret in order for the notebook to access Gemini on your behalf.')\n",
        "  raise e\n",
        "except Exception as e:\n",
        "  # unknown error\n",
        "  print(f\"There was an unknown error. Ensure you have a secret {gemini_api_secret_name} stored in Colab and it's a valid key from https://makersuite.google.com/app/apikey\")\n",
        "  raise e"
      ]
    },
    {
      "cell_type": "code",
      "source": [],
      "metadata": {
        "id": "X5_MhrRGSXer"
      },
      "execution_count": null,
      "outputs": []
    },
    {
      "cell_type": "markdown",
      "source": [
        "## rephase phần nội dung nhờ Gemini 1.0"
      ],
      "metadata": {
        "id": "-sdKgvnESX4O"
      }
    },
    {
      "cell_type": "code",
      "source": [
        "\n",
        "model = genai.GenerativeModel('gemini-pro')\n",
        "chat = model.start_chat(history=[])"
      ],
      "metadata": {
        "id": "GdgB1GoeSVqS"
      },
      "execution_count": null,
      "outputs": []
    },
    {
      "cell_type": "code",
      "source": [
        "def get_answer_gemini(prompt, text, model = genai.GenerativeModel('gemini-pro')):\n",
        "  chat = model.start_chat(history=[])\n",
        "  inputs = prompt + text\n",
        "  response = chat.send_message(inputs)\n",
        "  return response.text"
      ],
      "metadata": {
        "id": "-_aWsBHBSddj"
      },
      "execution_count": null,
      "outputs": []
    },
    {
      "cell_type": "code",
      "source": [
        "def count_words(sentence):\n",
        "    words = sentence.split()\n",
        "    word_count = len(words)\n",
        "    return word_count"
      ],
      "metadata": {
        "id": "FSbZ5_BrT1Dj"
      },
      "execution_count": null,
      "outputs": []
    },
    {
      "cell_type": "code",
      "source": [
        "prompt2 = \"Được cung cấp một đoạn văn bản dưới đây, hãy viết lại đoạn văn, với nội dung giữ nguyên và độ dài gần tương đương.\""
      ],
      "metadata": {
        "id": "UXgwKaTtSlJ1"
      },
      "execution_count": null,
      "outputs": []
    },
    {
      "cell_type": "code",
      "source": [
        "example = \"Vết ố thực sự hình thành do mồ hôi phản ứng với nhôm trong hầu hết các sản phẩm khử mùi và ngăn mồ hôi. Protein trong mồ hôi kết hợp với nhôm và hình thành nên vết ố vàng. Tom s of Maine là sản phẩm khử mùi không chứa nhôm mà bạn có thể thử. Dùng nhiều sản phẩm khử mùi hoặc chống mồ hôi có thể gây ra vết ố vàng tệ hơn dưới cánh tay áo. Bạn nên giảm lượng dùng. Chất khử mùi chỉ bám thêm vào vải và hình thành nhiều vết ố hơn. Trước khi mặc và sau khi giặt, bạn nên lộn trái áo. Rắc phấn em bé lên vùng áo dưới cánh tay và là ủi áo. Cách này thường ngăn ố hiệu quả cho vải sợi và sợi pha. Để ngăn ngừa ố vàng và ảnh hưởng đến vẻ đẹp của áo sơ mi, bạn có thể mặc thêm áo lót để ngăn mồ hôi thấm vào áo. Bạn nên giặt sạch áo bị ố ngay sau khi mặc và xử lý trước bằng sản phẩm chống ố, như OxiClean hoặc Spray and Wash. Vết ố mới thường dễ dàng xử lý hơn vết ố cũ. Bằng cách xử lý liên tục, bạn có thể giúp áo luôn sạch sẽ và ngăn không cho vết ố hình thành trên vải.\""
      ],
      "metadata": {
        "id": "7CBfhlDZSye3"
      },
      "execution_count": null,
      "outputs": []
    },
    {
      "cell_type": "code",
      "source": [
        "x = get_answer_gemini(prompt2, example)\n",
        "x"
      ],
      "metadata": {
        "colab": {
          "base_uri": "https://localhost:8080/",
          "height": 105
        },
        "id": "caMS2F9rSuUn",
        "outputId": "40273a6e-8484-4046-eb18-d904ca448e3d"
      },
      "execution_count": null,
      "outputs": [
        {
          "output_type": "execute_result",
          "data": {
            "text/plain": [
              "\"Vết vàng dưới cánh áo hình thành do phản ứng giữa mồ hôi và nhôm có trong hầu hết các sản phẩm khử mùi và ngăn mồ hôi. Protein trong mồ hôi kết hợp với nhôm tạo thành vết ố vàng. Một giải pháp thay thế không chứa nhôm là sản phẩm khử mùi Tom's of Maine. Sử dụng quá nhiều khử mùi hoặc thuốc chống mồ hôi có thể làm vết ố tệ hơn, vì vậy nên sử dụng chúng ở mức độ vừa phải. Quá nhiều khử mùi tích tụ trên vải, dẫn đến nhiều vết ố hơn. Lộn trái áo sau khi giặt và trước khi mặc để ngăn ngừa vết ố. Rắc phấn em bé lên vùng dưới cánh tay và là ủi áo cũng giúp ngăn ố vải sợi và vải pha. Để bảo vệ áo sơ mi, hãy mặc thêm áo lót để mồ hôi không thấm ra áo. Xử lý áo bị ố ngay lập tức với các chất tẩy rửa chuyên dụng như OxiClean hoặc Spray and Wash. Vết ố mới dễ xử lý hơn vết cũ, vì vậy việc giặt và xử lý thường xuyên sẽ giúp áo sạch và ngăn ngừa vết ố.\""
            ],
            "application/vnd.google.colaboratory.intrinsic+json": {
              "type": "string"
            }
          },
          "metadata": {},
          "execution_count": 20
        }
      ]
    },
    {
      "cell_type": "code",
      "source": [
        "example"
      ],
      "metadata": {
        "id": "jMmb_bGsTZNZ",
        "colab": {
          "base_uri": "https://localhost:8080/",
          "height": 122
        },
        "outputId": "1ebc5e27-537a-46a3-b2eb-12424cd8bc1d"
      },
      "execution_count": null,
      "outputs": [
        {
          "output_type": "execute_result",
          "data": {
            "text/plain": [
              "'Vết ố thực sự hình thành do mồ hôi phản ứng với nhôm trong hầu hết các sản phẩm khử mùi và ngăn mồ hôi. Protein trong mồ hôi kết hợp với nhôm và hình thành nên vết ố vàng. Tom s of Maine là sản phẩm khử mùi không chứa nhôm mà bạn có thể thử. Dùng nhiều sản phẩm khử mùi hoặc chống mồ hôi có thể gây ra vết ố vàng tệ hơn dưới cánh tay áo. Bạn nên giảm lượng dùng. Chất khử mùi chỉ bám thêm vào vải và hình thành nhiều vết ố hơn. Trước khi mặc và sau khi giặt, bạn nên lộn trái áo. Rắc phấn em bé lên vùng áo dưới cánh tay và là ủi áo. Cách này thường ngăn ố hiệu quả cho vải sợi và sợi pha. Để ngăn ngừa ố vàng và ảnh hưởng đến vẻ đẹp của áo sơ mi, bạn có thể mặc thêm áo lót để ngăn mồ hôi thấm vào áo. Bạn nên giặt sạch áo bị ố ngay sau khi mặc và xử lý trước bằng sản phẩm chống ố, như OxiClean hoặc Spray and Wash. Vết ố mới thường dễ dàng xử lý hơn vết ố cũ. Bằng cách xử lý liên tục, bạn có thể giúp áo luôn sạch sẽ và ngăn không cho vết ố hình thành trên vải.'"
            ],
            "application/vnd.google.colaboratory.intrinsic+json": {
              "type": "string"
            }
          },
          "metadata": {},
          "execution_count": 21
        }
      ]
    },
    {
      "cell_type": "code",
      "source": [
        "count_words(x)"
      ],
      "metadata": {
        "id": "zHIj6ieTT3WO",
        "colab": {
          "base_uri": "https://localhost:8080/"
        },
        "outputId": "7252ad09-4672-4484-dfb6-fcfc2604af05"
      },
      "execution_count": null,
      "outputs": [
        {
          "output_type": "execute_result",
          "data": {
            "text/plain": [
              "203"
            ]
          },
          "metadata": {},
          "execution_count": 22
        }
      ]
    },
    {
      "cell_type": "code",
      "source": [
        "# import os\n",
        "# import json\n",
        "# import time\n",
        "\n",
        "# source_dir = \"/content/drive/MyDrive/data_summarize/re_label\"\n",
        "# output_dir = \"/content/drive/MyDrive/data_summarize/aug_rephase\"\n",
        "\n",
        "# # Range of file numbers to process\n",
        "# start = 9001\n",
        "# end = 9200\n",
        "\n",
        "# for file_name in os.listdir(source_dir):\n",
        "#     if file_name.endswith(\".txt\"):\n",
        "#         number = int(file_name.split(\"_\")[2].split(\".\")[0])\n",
        "#         if start <= number <= end:\n",
        "#             file_path = os.path.join(source_dir, file_name)\n",
        "\n",
        "#             with open(file_path, 'r', encoding='utf-8') as file:\n",
        "#                 print(file_path)\n",
        "#                 data = json.load(file)\n",
        "\n",
        "#             try:\n",
        "\n",
        "#                 time.sleep(5)\n",
        "\n",
        "#                 new_input = get_answer_gemini(prompt2, data[\"inputs\"])\n",
        "#                 new_file_path = os.path.join(output_dir, f\"rf_{file_name}\")\n",
        "#                 with open(new_file_path, 'w', encoding='utf-8') as new_file:\n",
        "#                     json.dump({\"inputs\": new_input, \"labels\": data[\"labels\"]}, new_file, ensure_ascii=False)\n",
        "#             except Exception as e:\n",
        "#                 print(f\"Error: {e}\")\n",
        "#                 print(f\"Skipping file: {file_name}\")\n",
        "#                 continue"
      ],
      "metadata": {
        "colab": {
          "base_uri": "https://localhost:8080/",
          "height": 1000
        },
        "id": "3kPYMrbNvXVs",
        "outputId": "7ee11b58-a0d7-4f59-d0ff-c2aa92987cf1"
      },
      "execution_count": null,
      "outputs": [
        {
          "output_type": "stream",
          "name": "stdout",
          "text": [
            "/content/drive/MyDrive/data_summarize/re_label/re_document_9001.txt\n",
            "Error: finish_reason: SAFETY\n",
            "index: 0\n",
            "safety_ratings {\n",
            "  category: HARM_CATEGORY_SEXUALLY_EXPLICIT\n",
            "  probability: MEDIUM\n",
            "}\n",
            "safety_ratings {\n",
            "  category: HARM_CATEGORY_HATE_SPEECH\n",
            "  probability: NEGLIGIBLE\n",
            "}\n",
            "safety_ratings {\n",
            "  category: HARM_CATEGORY_HARASSMENT\n",
            "  probability: NEGLIGIBLE\n",
            "}\n",
            "safety_ratings {\n",
            "  category: HARM_CATEGORY_DANGEROUS_CONTENT\n",
            "  probability: NEGLIGIBLE\n",
            "}\n",
            "\n",
            "Skipping file: re_document_9001.txt\n",
            "/content/drive/MyDrive/data_summarize/re_label/re_document_9002.txt\n",
            "/content/drive/MyDrive/data_summarize/re_label/re_document_9003.txt\n",
            "/content/drive/MyDrive/data_summarize/re_label/re_document_9004.txt\n",
            "/content/drive/MyDrive/data_summarize/re_label/re_document_9005.txt\n",
            "/content/drive/MyDrive/data_summarize/re_label/re_document_9006.txt\n",
            "/content/drive/MyDrive/data_summarize/re_label/re_document_9007.txt\n",
            "/content/drive/MyDrive/data_summarize/re_label/re_document_9008.txt\n",
            "/content/drive/MyDrive/data_summarize/re_label/re_document_9009.txt\n",
            "/content/drive/MyDrive/data_summarize/re_label/re_document_9010.txt\n",
            "/content/drive/MyDrive/data_summarize/re_label/re_document_9011.txt\n",
            "/content/drive/MyDrive/data_summarize/re_label/re_document_9012.txt\n",
            "/content/drive/MyDrive/data_summarize/re_label/re_document_9013.txt\n",
            "/content/drive/MyDrive/data_summarize/re_label/re_document_9014.txt\n",
            "/content/drive/MyDrive/data_summarize/re_label/re_document_9015.txt\n",
            "/content/drive/MyDrive/data_summarize/re_label/re_document_9016.txt\n",
            "/content/drive/MyDrive/data_summarize/re_label/re_document_9018.txt\n",
            "Error: finish_reason: SAFETY\n",
            "index: 0\n",
            "safety_ratings {\n",
            "  category: HARM_CATEGORY_SEXUALLY_EXPLICIT\n",
            "  probability: NEGLIGIBLE\n",
            "}\n",
            "safety_ratings {\n",
            "  category: HARM_CATEGORY_HATE_SPEECH\n",
            "  probability: NEGLIGIBLE\n",
            "}\n",
            "safety_ratings {\n",
            "  category: HARM_CATEGORY_HARASSMENT\n",
            "  probability: NEGLIGIBLE\n",
            "}\n",
            "safety_ratings {\n",
            "  category: HARM_CATEGORY_DANGEROUS_CONTENT\n",
            "  probability: MEDIUM\n",
            "}\n",
            "\n",
            "Skipping file: re_document_9018.txt\n",
            "/content/drive/MyDrive/data_summarize/re_label/re_document_9019.txt\n",
            "/content/drive/MyDrive/data_summarize/re_label/re_document_9020.txt\n",
            "/content/drive/MyDrive/data_summarize/re_label/re_document_9021.txt\n",
            "/content/drive/MyDrive/data_summarize/re_label/re_document_9022.txt\n",
            "Error: finish_reason: SAFETY\n",
            "index: 0\n",
            "safety_ratings {\n",
            "  category: HARM_CATEGORY_SEXUALLY_EXPLICIT\n",
            "  probability: NEGLIGIBLE\n",
            "}\n",
            "safety_ratings {\n",
            "  category: HARM_CATEGORY_HATE_SPEECH\n",
            "  probability: NEGLIGIBLE\n",
            "}\n",
            "safety_ratings {\n",
            "  category: HARM_CATEGORY_HARASSMENT\n",
            "  probability: NEGLIGIBLE\n",
            "}\n",
            "safety_ratings {\n",
            "  category: HARM_CATEGORY_DANGEROUS_CONTENT\n",
            "  probability: MEDIUM\n",
            "}\n",
            "\n",
            "Skipping file: re_document_9022.txt\n",
            "/content/drive/MyDrive/data_summarize/re_label/re_document_9023.txt\n",
            "/content/drive/MyDrive/data_summarize/re_label/re_document_9024.txt\n",
            "/content/drive/MyDrive/data_summarize/re_label/re_document_9025.txt\n",
            "/content/drive/MyDrive/data_summarize/re_label/re_document_9026.txt\n",
            "/content/drive/MyDrive/data_summarize/re_label/re_document_9027.txt\n",
            "/content/drive/MyDrive/data_summarize/re_label/re_document_9028.txt\n",
            "/content/drive/MyDrive/data_summarize/re_label/re_document_9029.txt\n",
            "/content/drive/MyDrive/data_summarize/re_label/re_document_9030.txt\n",
            "/content/drive/MyDrive/data_summarize/re_label/re_document_9031.txt\n",
            "/content/drive/MyDrive/data_summarize/re_label/re_document_9032.txt\n",
            "/content/drive/MyDrive/data_summarize/re_label/re_document_9033.txt\n",
            "/content/drive/MyDrive/data_summarize/re_label/re_document_9034.txt\n",
            "/content/drive/MyDrive/data_summarize/re_label/re_document_9035.txt\n",
            "/content/drive/MyDrive/data_summarize/re_label/re_document_9036.txt\n",
            "/content/drive/MyDrive/data_summarize/re_label/re_document_9037.txt\n",
            "/content/drive/MyDrive/data_summarize/re_label/re_document_9038.txt\n",
            "/content/drive/MyDrive/data_summarize/re_label/re_document_9039.txt\n",
            "/content/drive/MyDrive/data_summarize/re_label/re_document_9040.txt\n",
            "/content/drive/MyDrive/data_summarize/re_label/re_document_9041.txt\n",
            "/content/drive/MyDrive/data_summarize/re_label/re_document_9042.txt\n",
            "/content/drive/MyDrive/data_summarize/re_label/re_document_9043.txt\n",
            "Error: finish_reason: SAFETY\n",
            "index: 0\n",
            "safety_ratings {\n",
            "  category: HARM_CATEGORY_SEXUALLY_EXPLICIT\n",
            "  probability: MEDIUM\n",
            "}\n",
            "safety_ratings {\n",
            "  category: HARM_CATEGORY_HATE_SPEECH\n",
            "  probability: NEGLIGIBLE\n",
            "}\n",
            "safety_ratings {\n",
            "  category: HARM_CATEGORY_HARASSMENT\n",
            "  probability: NEGLIGIBLE\n",
            "}\n",
            "safety_ratings {\n",
            "  category: HARM_CATEGORY_DANGEROUS_CONTENT\n",
            "  probability: NEGLIGIBLE\n",
            "}\n",
            "\n",
            "Skipping file: re_document_9043.txt\n",
            "/content/drive/MyDrive/data_summarize/re_label/re_document_9044.txt\n",
            "/content/drive/MyDrive/data_summarize/re_label/re_document_9045.txt\n",
            "/content/drive/MyDrive/data_summarize/re_label/re_document_9046.txt\n",
            "/content/drive/MyDrive/data_summarize/re_label/re_document_9047.txt\n",
            "/content/drive/MyDrive/data_summarize/re_label/re_document_9048.txt\n",
            "/content/drive/MyDrive/data_summarize/re_label/re_document_9049.txt\n",
            "/content/drive/MyDrive/data_summarize/re_label/re_document_9050.txt\n",
            "/content/drive/MyDrive/data_summarize/re_label/re_document_9051.txt\n",
            "/content/drive/MyDrive/data_summarize/re_label/re_document_9052.txt\n",
            "/content/drive/MyDrive/data_summarize/re_label/re_document_9053.txt\n",
            "/content/drive/MyDrive/data_summarize/re_label/re_document_9054.txt\n",
            "/content/drive/MyDrive/data_summarize/re_label/re_document_9055.txt\n",
            "/content/drive/MyDrive/data_summarize/re_label/re_document_9057.txt\n",
            "/content/drive/MyDrive/data_summarize/re_label/re_document_9058.txt\n",
            "/content/drive/MyDrive/data_summarize/re_label/re_document_9059.txt\n",
            "Error: finish_reason: SAFETY\n",
            "index: 0\n",
            "safety_ratings {\n",
            "  category: HARM_CATEGORY_SEXUALLY_EXPLICIT\n",
            "  probability: HIGH\n",
            "}\n",
            "safety_ratings {\n",
            "  category: HARM_CATEGORY_HATE_SPEECH\n",
            "  probability: NEGLIGIBLE\n",
            "}\n",
            "safety_ratings {\n",
            "  category: HARM_CATEGORY_HARASSMENT\n",
            "  probability: NEGLIGIBLE\n",
            "}\n",
            "safety_ratings {\n",
            "  category: HARM_CATEGORY_DANGEROUS_CONTENT\n",
            "  probability: NEGLIGIBLE\n",
            "}\n",
            "\n",
            "Skipping file: re_document_9059.txt\n",
            "/content/drive/MyDrive/data_summarize/re_label/re_document_9060.txt\n",
            "/content/drive/MyDrive/data_summarize/re_label/re_document_9061.txt\n",
            "/content/drive/MyDrive/data_summarize/re_label/re_document_9062.txt\n",
            "/content/drive/MyDrive/data_summarize/re_label/re_document_9063.txt\n",
            "/content/drive/MyDrive/data_summarize/re_label/re_document_9064.txt\n",
            "/content/drive/MyDrive/data_summarize/re_label/re_document_9065.txt\n",
            "/content/drive/MyDrive/data_summarize/re_label/re_document_9066.txt\n",
            "/content/drive/MyDrive/data_summarize/re_label/re_document_9067.txt\n",
            "/content/drive/MyDrive/data_summarize/re_label/re_document_9068.txt\n",
            "/content/drive/MyDrive/data_summarize/re_label/re_document_9069.txt\n",
            "/content/drive/MyDrive/data_summarize/re_label/re_document_9070.txt\n",
            "/content/drive/MyDrive/data_summarize/re_label/re_document_9071.txt\n",
            "/content/drive/MyDrive/data_summarize/re_label/re_document_9072.txt\n",
            "/content/drive/MyDrive/data_summarize/re_label/re_document_9073.txt\n",
            "/content/drive/MyDrive/data_summarize/re_label/re_document_9074.txt\n",
            "/content/drive/MyDrive/data_summarize/re_label/re_document_9075.txt\n",
            "/content/drive/MyDrive/data_summarize/re_label/re_document_9076.txt\n",
            "/content/drive/MyDrive/data_summarize/re_label/re_document_9077.txt\n",
            "Error: finish_reason: SAFETY\n",
            "index: 0\n",
            "safety_ratings {\n",
            "  category: HARM_CATEGORY_SEXUALLY_EXPLICIT\n",
            "  probability: NEGLIGIBLE\n",
            "}\n",
            "safety_ratings {\n",
            "  category: HARM_CATEGORY_HATE_SPEECH\n",
            "  probability: NEGLIGIBLE\n",
            "}\n",
            "safety_ratings {\n",
            "  category: HARM_CATEGORY_HARASSMENT\n",
            "  probability: NEGLIGIBLE\n",
            "}\n",
            "safety_ratings {\n",
            "  category: HARM_CATEGORY_DANGEROUS_CONTENT\n",
            "  probability: MEDIUM\n",
            "}\n",
            "\n",
            "Skipping file: re_document_9077.txt\n",
            "/content/drive/MyDrive/data_summarize/re_label/re_document_9078.txt\n",
            "/content/drive/MyDrive/data_summarize/re_label/re_document_9080.txt\n",
            "/content/drive/MyDrive/data_summarize/re_label/re_document_9081.txt\n",
            "/content/drive/MyDrive/data_summarize/re_label/re_document_9082.txt\n",
            "Error: finish_reason: SAFETY\n",
            "index: 0\n",
            "safety_ratings {\n",
            "  category: HARM_CATEGORY_SEXUALLY_EXPLICIT\n",
            "  probability: NEGLIGIBLE\n",
            "}\n",
            "safety_ratings {\n",
            "  category: HARM_CATEGORY_HATE_SPEECH\n",
            "  probability: NEGLIGIBLE\n",
            "}\n",
            "safety_ratings {\n",
            "  category: HARM_CATEGORY_HARASSMENT\n",
            "  probability: NEGLIGIBLE\n",
            "}\n",
            "safety_ratings {\n",
            "  category: HARM_CATEGORY_DANGEROUS_CONTENT\n",
            "  probability: MEDIUM\n",
            "}\n",
            "\n",
            "Skipping file: re_document_9082.txt\n",
            "/content/drive/MyDrive/data_summarize/re_label/re_document_9083.txt\n",
            "/content/drive/MyDrive/data_summarize/re_label/re_document_9084.txt\n",
            "/content/drive/MyDrive/data_summarize/re_label/re_document_9085.txt\n",
            "/content/drive/MyDrive/data_summarize/re_label/re_document_9086.txt\n",
            "/content/drive/MyDrive/data_summarize/re_label/re_document_9087.txt\n",
            "/content/drive/MyDrive/data_summarize/re_label/re_document_9088.txt\n",
            "/content/drive/MyDrive/data_summarize/re_label/re_document_9089.txt\n",
            "/content/drive/MyDrive/data_summarize/re_label/re_document_9090.txt\n",
            "/content/drive/MyDrive/data_summarize/re_label/re_document_9091.txt\n",
            "/content/drive/MyDrive/data_summarize/re_label/re_document_9092.txt\n",
            "/content/drive/MyDrive/data_summarize/re_label/re_document_9093.txt\n",
            "/content/drive/MyDrive/data_summarize/re_label/re_document_9094.txt\n",
            "/content/drive/MyDrive/data_summarize/re_label/re_document_9095.txt\n",
            "/content/drive/MyDrive/data_summarize/re_label/re_document_9096.txt\n",
            "/content/drive/MyDrive/data_summarize/re_label/re_document_9097.txt\n",
            "/content/drive/MyDrive/data_summarize/re_label/re_document_9098.txt\n",
            "/content/drive/MyDrive/data_summarize/re_label/re_document_9099.txt\n",
            "/content/drive/MyDrive/data_summarize/re_label/re_document_9100.txt\n",
            "/content/drive/MyDrive/data_summarize/re_label/re_document_9101.txt\n",
            "/content/drive/MyDrive/data_summarize/re_label/re_document_9103.txt\n",
            "/content/drive/MyDrive/data_summarize/re_label/re_document_9104.txt\n",
            "/content/drive/MyDrive/data_summarize/re_label/re_document_9105.txt\n",
            "/content/drive/MyDrive/data_summarize/re_label/re_document_9106.txt\n",
            "/content/drive/MyDrive/data_summarize/re_label/re_document_9107.txt\n",
            "/content/drive/MyDrive/data_summarize/re_label/re_document_9108.txt\n",
            "/content/drive/MyDrive/data_summarize/re_label/re_document_9109.txt\n",
            "/content/drive/MyDrive/data_summarize/re_label/re_document_9110.txt\n",
            "Error: finish_reason: SAFETY\n",
            "index: 0\n",
            "safety_ratings {\n",
            "  category: HARM_CATEGORY_SEXUALLY_EXPLICIT\n",
            "  probability: MEDIUM\n",
            "}\n",
            "safety_ratings {\n",
            "  category: HARM_CATEGORY_HATE_SPEECH\n",
            "  probability: NEGLIGIBLE\n",
            "}\n",
            "safety_ratings {\n",
            "  category: HARM_CATEGORY_HARASSMENT\n",
            "  probability: NEGLIGIBLE\n",
            "}\n",
            "safety_ratings {\n",
            "  category: HARM_CATEGORY_DANGEROUS_CONTENT\n",
            "  probability: NEGLIGIBLE\n",
            "}\n",
            "\n",
            "Skipping file: re_document_9110.txt\n",
            "/content/drive/MyDrive/data_summarize/re_label/re_document_9111.txt\n",
            "/content/drive/MyDrive/data_summarize/re_label/re_document_9112.txt\n",
            "Error: finish_reason: SAFETY\n",
            "index: 0\n",
            "safety_ratings {\n",
            "  category: HARM_CATEGORY_SEXUALLY_EXPLICIT\n",
            "  probability: MEDIUM\n",
            "}\n",
            "safety_ratings {\n",
            "  category: HARM_CATEGORY_HATE_SPEECH\n",
            "  probability: NEGLIGIBLE\n",
            "}\n",
            "safety_ratings {\n",
            "  category: HARM_CATEGORY_HARASSMENT\n",
            "  probability: NEGLIGIBLE\n",
            "}\n",
            "safety_ratings {\n",
            "  category: HARM_CATEGORY_DANGEROUS_CONTENT\n",
            "  probability: NEGLIGIBLE\n",
            "}\n",
            "\n",
            "Skipping file: re_document_9112.txt\n",
            "/content/drive/MyDrive/data_summarize/re_label/re_document_9113.txt\n",
            "/content/drive/MyDrive/data_summarize/re_label/re_document_9114.txt\n",
            "/content/drive/MyDrive/data_summarize/re_label/re_document_9115.txt\n",
            "/content/drive/MyDrive/data_summarize/re_label/re_document_9117.txt\n",
            "/content/drive/MyDrive/data_summarize/re_label/re_document_9118.txt\n",
            "/content/drive/MyDrive/data_summarize/re_label/re_document_9119.txt\n",
            "/content/drive/MyDrive/data_summarize/re_label/re_document_9120.txt\n",
            "/content/drive/MyDrive/data_summarize/re_label/re_document_9121.txt\n",
            "/content/drive/MyDrive/data_summarize/re_label/re_document_9122.txt\n",
            "/content/drive/MyDrive/data_summarize/re_label/re_document_9123.txt\n",
            "/content/drive/MyDrive/data_summarize/re_label/re_document_9124.txt\n",
            "/content/drive/MyDrive/data_summarize/re_label/re_document_9125.txt\n",
            "/content/drive/MyDrive/data_summarize/re_label/re_document_9126.txt\n",
            "/content/drive/MyDrive/data_summarize/re_label/re_document_9127.txt\n",
            "/content/drive/MyDrive/data_summarize/re_label/re_document_9128.txt\n",
            "/content/drive/MyDrive/data_summarize/re_label/re_document_9129.txt\n",
            "/content/drive/MyDrive/data_summarize/re_label/re_document_9130.txt\n",
            "/content/drive/MyDrive/data_summarize/re_label/re_document_9131.txt\n",
            "/content/drive/MyDrive/data_summarize/re_label/re_document_9132.txt\n",
            "/content/drive/MyDrive/data_summarize/re_label/re_document_9133.txt\n",
            "/content/drive/MyDrive/data_summarize/re_label/re_document_9134.txt\n",
            "/content/drive/MyDrive/data_summarize/re_label/re_document_9135.txt\n",
            "/content/drive/MyDrive/data_summarize/re_label/re_document_9136.txt\n",
            "/content/drive/MyDrive/data_summarize/re_label/re_document_9137.txt\n",
            "/content/drive/MyDrive/data_summarize/re_label/re_document_9138.txt\n",
            "/content/drive/MyDrive/data_summarize/re_label/re_document_9139.txt\n",
            "/content/drive/MyDrive/data_summarize/re_label/re_document_9140.txt\n",
            "/content/drive/MyDrive/data_summarize/re_label/re_document_9141.txt\n",
            "/content/drive/MyDrive/data_summarize/re_label/re_document_9142.txt\n",
            "/content/drive/MyDrive/data_summarize/re_label/re_document_9143.txt\n",
            "/content/drive/MyDrive/data_summarize/re_label/re_document_9144.txt\n",
            "/content/drive/MyDrive/data_summarize/re_label/re_document_9145.txt\n",
            "/content/drive/MyDrive/data_summarize/re_label/re_document_9146.txt\n",
            "/content/drive/MyDrive/data_summarize/re_label/re_document_9147.txt\n",
            "/content/drive/MyDrive/data_summarize/re_label/re_document_9148.txt\n",
            "/content/drive/MyDrive/data_summarize/re_label/re_document_9149.txt\n",
            "/content/drive/MyDrive/data_summarize/re_label/re_document_9151.txt\n",
            "Error: finish_reason: SAFETY\n",
            "index: 0\n",
            "safety_ratings {\n",
            "  category: HARM_CATEGORY_SEXUALLY_EXPLICIT\n",
            "  probability: MEDIUM\n",
            "}\n",
            "safety_ratings {\n",
            "  category: HARM_CATEGORY_HATE_SPEECH\n",
            "  probability: NEGLIGIBLE\n",
            "}\n",
            "safety_ratings {\n",
            "  category: HARM_CATEGORY_HARASSMENT\n",
            "  probability: LOW\n",
            "}\n",
            "safety_ratings {\n",
            "  category: HARM_CATEGORY_DANGEROUS_CONTENT\n",
            "  probability: NEGLIGIBLE\n",
            "}\n",
            "\n",
            "Skipping file: re_document_9151.txt\n",
            "/content/drive/MyDrive/data_summarize/re_label/re_document_9152.txt\n",
            "/content/drive/MyDrive/data_summarize/re_label/re_document_9153.txt\n",
            "/content/drive/MyDrive/data_summarize/re_label/re_document_9154.txt\n",
            "/content/drive/MyDrive/data_summarize/re_label/re_document_9155.txt\n",
            "/content/drive/MyDrive/data_summarize/re_label/re_document_9156.txt\n",
            "/content/drive/MyDrive/data_summarize/re_label/re_document_9157.txt\n",
            "/content/drive/MyDrive/data_summarize/re_label/re_document_9158.txt\n",
            "/content/drive/MyDrive/data_summarize/re_label/re_document_9159.txt\n"
          ]
        },
        {
          "output_type": "stream",
          "name": "stderr",
          "text": [
            "ERROR:tornado.access:503 POST /v1beta/models/gemini-pro:generateContent?%24alt=json%3Benum-encoding%3Dint (127.0.0.1) 6615.80ms\n",
            "ERROR:tornado.access:503 POST /v1beta/models/gemini-pro:generateContent?%24alt=json%3Benum-encoding%3Dint (127.0.0.1) 2053.99ms\n",
            "ERROR:tornado.access:503 POST /v1beta/models/gemini-pro:generateContent?%24alt=json%3Benum-encoding%3Dint (127.0.0.1) 2284.51ms\n",
            "ERROR:tornado.access:503 POST /v1beta/models/gemini-pro:generateContent?%24alt=json%3Benum-encoding%3Dint (127.0.0.1) 2106.19ms\n",
            "ERROR:tornado.access:503 POST /v1beta/models/gemini-pro:generateContent?%24alt=json%3Benum-encoding%3Dint (127.0.0.1) 6157.29ms\n",
            "ERROR:tornado.access:503 POST /v1beta/models/gemini-pro:generateContent?%24alt=json%3Benum-encoding%3Dint (127.0.0.1) 1067.12ms\n",
            "ERROR:tornado.access:503 POST /v1beta/models/gemini-pro:generateContent?%24alt=json%3Benum-encoding%3Dint (127.0.0.1) 1597.22ms\n",
            "ERROR:tornado.access:503 POST /v1beta/models/gemini-pro:generateContent?%24alt=json%3Benum-encoding%3Dint (127.0.0.1) 1017.62ms\n",
            "ERROR:tornado.access:503 POST /v1beta/models/gemini-pro:generateContent?%24alt=json%3Benum-encoding%3Dint (127.0.0.1) 1294.03ms\n",
            "ERROR:tornado.access:503 POST /v1beta/models/gemini-pro:generateContent?%24alt=json%3Benum-encoding%3Dint (127.0.0.1) 1018.18ms\n",
            "ERROR:tornado.access:503 POST /v1beta/models/gemini-pro:generateContent?%24alt=json%3Benum-encoding%3Dint (127.0.0.1) 1420.70ms\n",
            "ERROR:tornado.access:503 POST /v1beta/models/gemini-pro:generateContent?%24alt=json%3Benum-encoding%3Dint (127.0.0.1) 1420.88ms\n"
          ]
        },
        {
          "output_type": "stream",
          "name": "stdout",
          "text": [
            "Error: HTTPConnectionPool(host='localhost', port=39847): Read timed out. (read timeout=5.915542125701904)\n",
            "Skipping file: re_document_9159.txt\n",
            "/content/drive/MyDrive/data_summarize/re_label/re_document_9162.txt\n"
          ]
        },
        {
          "output_type": "stream",
          "name": "stderr",
          "text": [
            "ERROR:tornado.access:503 POST /v1beta/models/gemini-pro:generateContent?%24alt=json%3Benum-encoding%3Dint (127.0.0.1) 8889.59ms\n"
          ]
        },
        {
          "output_type": "stream",
          "name": "stdout",
          "text": [
            "/content/drive/MyDrive/data_summarize/re_label/re_document_9163.txt\n"
          ]
        },
        {
          "output_type": "stream",
          "name": "stderr",
          "text": [
            "ERROR:tornado.access:503 POST /v1beta/models/gemini-pro:generateContent?%24alt=json%3Benum-encoding%3Dint (127.0.0.1) 1599.61ms\n",
            "ERROR:tornado.access:503 POST /v1beta/models/gemini-pro:generateContent?%24alt=json%3Benum-encoding%3Dint (127.0.0.1) 6518.79ms\n",
            "ERROR:tornado.access:503 POST /v1beta/models/gemini-pro:generateContent?%24alt=json%3Benum-encoding%3Dint (127.0.0.1) 1349.36ms\n",
            "ERROR:tornado.access:503 POST /v1beta/models/gemini-pro:generateContent?%24alt=json%3Benum-encoding%3Dint (127.0.0.1) 1346.06ms\n",
            "ERROR:tornado.access:503 POST /v1beta/models/gemini-pro:generateContent?%24alt=json%3Benum-encoding%3Dint (127.0.0.1) 5654.68ms\n",
            "ERROR:tornado.access:503 POST /v1beta/models/gemini-pro:generateContent?%24alt=json%3Benum-encoding%3Dint (127.0.0.1) 6486.62ms\n",
            "ERROR:tornado.access:503 POST /v1beta/models/gemini-pro:generateContent?%24alt=json%3Benum-encoding%3Dint (127.0.0.1) 7553.00ms\n",
            "ERROR:tornado.access:503 POST /v1beta/models/gemini-pro:generateContent?%24alt=json%3Benum-encoding%3Dint (127.0.0.1) 1800.63ms\n",
            "ERROR:tornado.access:503 POST /v1beta/models/gemini-pro:generateContent?%24alt=json%3Benum-encoding%3Dint (127.0.0.1) 1320.08ms\n",
            "ERROR:tornado.access:503 POST /v1beta/models/gemini-pro:generateContent?%24alt=json%3Benum-encoding%3Dint (127.0.0.1) 1549.44ms\n",
            "ERROR:tornado.access:503 POST /v1beta/models/gemini-pro:generateContent?%24alt=json%3Benum-encoding%3Dint (127.0.0.1) 1241.61ms\n"
          ]
        },
        {
          "output_type": "stream",
          "name": "stdout",
          "text": [
            "Error: HTTPConnectionPool(host='localhost', port=39847): Read timed out. (read timeout=5.156631946563721)\n",
            "Skipping file: re_document_9163.txt\n",
            "/content/drive/MyDrive/data_summarize/re_label/re_document_9164.txt\n",
            "/content/drive/MyDrive/data_summarize/re_label/re_document_9165.txt\n",
            "/content/drive/MyDrive/data_summarize/re_label/re_document_9166.txt\n",
            "/content/drive/MyDrive/data_summarize/re_label/re_document_9167.txt\n",
            "/content/drive/MyDrive/data_summarize/re_label/re_document_9168.txt\n",
            "/content/drive/MyDrive/data_summarize/re_label/re_document_9169.txt\n",
            "Error: finish_reason: SAFETY\n",
            "index: 0\n",
            "safety_ratings {\n",
            "  category: HARM_CATEGORY_SEXUALLY_EXPLICIT\n",
            "  probability: MEDIUM\n",
            "}\n",
            "safety_ratings {\n",
            "  category: HARM_CATEGORY_HATE_SPEECH\n",
            "  probability: NEGLIGIBLE\n",
            "}\n",
            "safety_ratings {\n",
            "  category: HARM_CATEGORY_HARASSMENT\n",
            "  probability: NEGLIGIBLE\n",
            "}\n",
            "safety_ratings {\n",
            "  category: HARM_CATEGORY_DANGEROUS_CONTENT\n",
            "  probability: NEGLIGIBLE\n",
            "}\n",
            "\n",
            "Skipping file: re_document_9169.txt\n",
            "/content/drive/MyDrive/data_summarize/re_label/re_document_9170.txt\n",
            "/content/drive/MyDrive/data_summarize/re_label/re_document_9171.txt\n",
            "/content/drive/MyDrive/data_summarize/re_label/re_document_9172.txt\n",
            "/content/drive/MyDrive/data_summarize/re_label/re_document_9173.txt\n",
            "/content/drive/MyDrive/data_summarize/re_label/re_document_9174.txt\n",
            "/content/drive/MyDrive/data_summarize/re_label/re_document_9175.txt\n",
            "/content/drive/MyDrive/data_summarize/re_label/re_document_9176.txt\n",
            "/content/drive/MyDrive/data_summarize/re_label/re_document_9177.txt\n",
            "/content/drive/MyDrive/data_summarize/re_label/re_document_9178.txt\n",
            "/content/drive/MyDrive/data_summarize/re_label/re_document_9179.txt\n",
            "/content/drive/MyDrive/data_summarize/re_label/re_document_9180.txt\n",
            "/content/drive/MyDrive/data_summarize/re_label/re_document_9181.txt\n",
            "/content/drive/MyDrive/data_summarize/re_label/re_document_9182.txt\n",
            "/content/drive/MyDrive/data_summarize/re_label/re_document_9183.txt\n",
            "/content/drive/MyDrive/data_summarize/re_label/re_document_9184.txt\n",
            "/content/drive/MyDrive/data_summarize/re_label/re_document_9185.txt\n",
            "/content/drive/MyDrive/data_summarize/re_label/re_document_9186.txt\n",
            "/content/drive/MyDrive/data_summarize/re_label/re_document_9188.txt\n",
            "/content/drive/MyDrive/data_summarize/re_label/re_document_9189.txt\n",
            "/content/drive/MyDrive/data_summarize/re_label/re_document_9190.txt\n",
            "/content/drive/MyDrive/data_summarize/re_label/re_document_9191.txt\n",
            "/content/drive/MyDrive/data_summarize/re_label/re_document_9193.txt\n",
            "/content/drive/MyDrive/data_summarize/re_label/re_document_9194.txt\n",
            "/content/drive/MyDrive/data_summarize/re_label/re_document_9195.txt\n",
            "/content/drive/MyDrive/data_summarize/re_label/re_document_9196.txt\n",
            "/content/drive/MyDrive/data_summarize/re_label/re_document_9197.txt\n",
            "/content/drive/MyDrive/data_summarize/re_label/re_document_9198.txt\n",
            "/content/drive/MyDrive/data_summarize/re_label/re_document_9199.txt\n",
            "/content/drive/MyDrive/data_summarize/re_label/re_document_9200.txt\n"
          ]
        }
      ]
    }
  ]
}